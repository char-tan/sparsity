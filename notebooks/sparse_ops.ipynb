{
  "nbformat": 4,
  "nbformat_minor": 0,
  "metadata": {
    "colab": {
      "provenance": []
    },
    "kernelspec": {
      "name": "python3",
      "display_name": "Python 3"
    },
    "language_info": {
      "name": "python"
    },
    "accelerator": "GPU",
    "gpuClass": "standard"
  },
  "cells": [
    {
      "cell_type": "code",
      "source": [
        "# reload modules in .py files\n",
        "%load_ext autoreload\n",
        "%autoreload 2"
      ],
      "metadata": {
        "id": "e7g08cqjJ0ti"
      },
      "execution_count": 2,
      "outputs": []
    },
    {
      "cell_type": "code",
      "source": [
        "# pull repo\n",
        "!git clone https://github.com/char-tan/sparsity"
      ],
      "metadata": {
        "id": "bRaMT-oNJvfI",
        "colab": {
          "base_uri": "https://localhost:8080/"
        },
        "outputId": "b753f374-8205-4258-a851-46a7700411f4"
      },
      "execution_count": 3,
      "outputs": [
        {
          "output_type": "stream",
          "name": "stdout",
          "text": [
            "Cloning into 'sparsity'...\n",
            "remote: Enumerating objects: 34, done.\u001b[K\n",
            "remote: Counting objects: 100% (34/34), done.\u001b[K\n",
            "remote: Compressing objects: 100% (24/24), done.\u001b[K\n",
            "remote: Total 34 (delta 10), reused 23 (delta 5), pack-reused 0\u001b[K\n",
            "Unpacking objects: 100% (34/34), done.\n"
          ]
        }
      ]
    },
    {
      "cell_type": "code",
      "source": [
        "# change working directory\n",
        "import os\n",
        "os.chdir('sparsity/sparse_ops')"
      ],
      "metadata": {
        "id": "nrV0RsgRJ2xZ"
      },
      "execution_count": 4,
      "outputs": []
    },
    {
      "cell_type": "code",
      "source": [
        "# THIS DOESN'T WORK\n",
        "# !python setup.py install\n",
        "# Using -e has caveats: https://stackoverflow.com/a/20043907\n",
        "!pip3 install ."
      ],
      "metadata": {
        "id": "cXhwtpo1W7-Z"
      },
      "execution_count": null,
      "outputs": []
    },
    {
      "cell_type": "markdown",
      "source": [
        "### Sample usage of our extension"
      ],
      "metadata": {
        "id": "wyGQyCVSY-3J"
      }
    },
    {
      "cell_type": "code",
      "source": [
        "import torch\n",
        "import os, sys\n",
        "sys.path.append(os.getcwd())\n",
        "import sparse_ops_cpp\n",
        "\n",
        "a = torch.tensor([1])\n",
        "b = a\n",
        "c = sparse_ops_cpp.add(a, b)\n",
        "print(c)"
      ],
      "metadata": {
        "colab": {
          "base_uri": "https://localhost:8080/"
        },
        "id": "Z0_qmycdK_Qu",
        "outputId": "4906d046-0075-41d3-a191-1ad7037b54cd"
      },
      "execution_count": 6,
      "outputs": [
        {
          "output_type": "stream",
          "name": "stdout",
          "text": [
            "tensor([2])\n"
          ]
        }
      ]
    }
  ]
}