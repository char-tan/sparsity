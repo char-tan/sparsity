{
  "cells": [
    {
      "cell_type": "markdown",
      "id": "0ox72K94Tk_f",
      "metadata": {
        "id": "0ox72K94Tk_f"
      },
      "source": [
        "# Setup"
      ]
    },
    {
      "cell_type": "code",
      "execution_count": null,
      "id": "EoU7-e4NcM4c",
      "metadata": {
        "id": "EoU7-e4NcM4c"
      },
      "outputs": [],
      "source": [
        "# check GPU\n",
        "!nvidia-smi"
      ]
    },
    {
      "cell_type": "code",
      "execution_count": null,
      "id": "ObaBHw6wWCD0",
      "metadata": {
        "id": "ObaBHw6wWCD0"
      },
      "outputs": [],
      "source": [
        "# reload modules in .py files\n",
        "%load_ext autoreload\n",
        "%autoreload 2"
      ]
    },
    {
      "cell_type": "code",
      "execution_count": null,
      "id": "999c2bc6",
      "metadata": {
        "id": "999c2bc6"
      },
      "outputs": [],
      "source": [
        "# pull repo\n",
        "!git clone https://github.com/char-tan/sparsity"
      ]
    },
    {
      "cell_type": "code",
      "execution_count": null,
      "id": "FhffvuErVyVk",
      "metadata": {
        "id": "FhffvuErVyVk"
      },
      "outputs": [],
      "source": [
        "# change working directory\n",
        "import os\n",
        "os.chdir('sparsity')"
      ]
    },
    {
      "cell_type": "code",
      "execution_count": null,
      "id": "a4K8AFJTcYtt",
      "metadata": {
        "id": "a4K8AFJTcYtt"
      },
      "outputs": [],
      "source": [
        "# checkout branch\n",
        "!git checkout ct_dev"
      ]
    },
    {
      "cell_type": "code",
      "execution_count": null,
      "id": "fe1fb111",
      "metadata": {
        "id": "fe1fb111"
      },
      "outputs": [],
      "source": [
        "from training.train_model import train_model\n",
        "import torchvision\n",
        "import torch.nn as nn\n",
        "\n",
        "# init model and change first layers for smaller input images\n",
        "model = torchvision.models.resnet18(num_classes=10, zero_init_residual=True)\n",
        "model.conv1 = nn.Conv2d(3, 64, kernel_size=(3, 3), stride=(1, 1), padding=(1, 1), bias=False)\n",
        "model.maxpool = nn.Identity()\n",
        "\n",
        "train_model(model)"
      ]
    },
    {
      "cell_type": "code",
      "source": [
        "print(model)"
      ],
      "metadata": {
        "id": "PeAIW3neT7h5"
      },
      "id": "PeAIW3neT7h5",
      "execution_count": null,
      "outputs": []
    }
  ],
  "metadata": {
    "accelerator": "GPU",
    "colab": {
      "provenance": []
    },
    "gpuClass": "standard",
    "kernelspec": {
      "display_name": "Python 3",
      "language": "python",
      "name": "python3"
    },
    "language_info": {
      "codemirror_mode": {
        "name": "ipython",
        "version": 3
      },
      "file_extension": ".py",
      "mimetype": "text/x-python",
      "name": "python",
      "nbconvert_exporter": "python",
      "pygments_lexer": "ipython3",
      "version": "3.8.8"
    },
    "vscode": {
      "interpreter": {
        "hash": "533dc1b5f6751e9c738350df3cd1b0ef5f569dd461507537431de13a6c09381e"
      }
    }
  },
  "nbformat": 4,
  "nbformat_minor": 5
}