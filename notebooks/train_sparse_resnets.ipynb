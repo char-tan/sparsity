{
  "cells": [
    {
      "cell_type": "markdown",
      "id": "0ox72K94Tk_f",
      "metadata": {
        "id": "0ox72K94Tk_f"
      },
      "source": [
        "## Setup"
      ]
    },
    {
      "cell_type": "code",
      "execution_count": null,
      "id": "EoU7-e4NcM4c",
      "metadata": {
        "id": "EoU7-e4NcM4c"
      },
      "outputs": [],
      "source": [
        "# check GPU\n",
        "!nvidia-smi"
      ]
    },
    {
      "cell_type": "code",
      "source": [
        "# clone apex\n",
        "!git clone https://github.com/NVIDIA/apex"
      ],
      "metadata": {
        "id": "Ql05uVturRYD"
      },
      "id": "Ql05uVturRYD",
      "execution_count": null,
      "outputs": []
    },
    {
      "cell_type": "code",
      "source": [
        "# install apex (you need to comment out the version check in setup.py)\n",
        "!cd apex && pip install -v --disable-pip-version-check --no-cache-dir --global-option=\"--permutation_search\" ./"
      ],
      "metadata": {
        "id": "8-ADq-absivt"
      },
      "id": "8-ADq-absivt",
      "execution_count": null,
      "outputs": []
    },
    {
      "cell_type": "code",
      "execution_count": null,
      "id": "ObaBHw6wWCD0",
      "metadata": {
        "id": "ObaBHw6wWCD0"
      },
      "outputs": [],
      "source": [
        "# reload modules in .py files\n",
        "%load_ext autoreload\n",
        "%autoreload 2"
      ]
    },
    {
      "cell_type": "code",
      "execution_count": null,
      "id": "999c2bc6",
      "metadata": {
        "id": "999c2bc6"
      },
      "outputs": [],
      "source": [
        "# pull repo\n",
        "!git clone https://github.com/char-tan/sparsity"
      ]
    },
    {
      "cell_type": "code",
      "execution_count": null,
      "id": "FhffvuErVyVk",
      "metadata": {
        "id": "FhffvuErVyVk"
      },
      "outputs": [],
      "source": [
        "# change working directory, make dir for models\n",
        "import os\n",
        "os.chdir('sparsity')\n",
        "os.makedirs('models', exist_ok=True)"
      ]
    },
    {
      "cell_type": "code",
      "execution_count": null,
      "id": "a4K8AFJTcYtt",
      "metadata": {
        "id": "a4K8AFJTcYtt"
      },
      "outputs": [],
      "source": [
        "# checkout branch\n",
        "!git checkout ct_dev"
      ]
    },
    {
      "cell_type": "markdown",
      "source": [
        "## Training config"
      ],
      "metadata": {
        "id": "vEXGHaURg5qF"
      },
      "id": "vEXGHaURg5qF"
    },
    {
      "cell_type": "code",
      "execution_count": null,
      "id": "fe1fb111",
      "metadata": {
        "id": "fe1fb111"
      },
      "outputs": [],
      "source": [
        "import torch\n",
        "\n",
        "from training.training import *\n",
        "from training.utils import *\n",
        "\n",
        "from apex.contrib.sparsity import ASP"
      ]
    },
    {
      "cell_type": "code",
      "source": [
        "config = Config(num_epochs=2)\n",
        "\n",
        "torch.manual_seed(config.seed)\n",
        "\n",
        "model = resnet18_small_input().to(config.device)\n",
        "\n",
        "torch.save(model.state_dict(), 'models/init.pt')\n",
        "\n",
        "optimizer = torch.optim.SGD(\n",
        "        model.parameters(),\n",
        "        lr=config.lr,\n",
        "        momentum=config.momentum,\n",
        "        weight_decay=config.weight_decay)\n",
        "\n",
        "train_loader, test_loader = cifar10_dataloaders(config)"
      ],
      "metadata": {
        "id": "CEibiUghc2HX"
      },
      "id": "CEibiUghc2HX",
      "execution_count": null,
      "outputs": []
    },
    {
      "cell_type": "markdown",
      "source": [
        "## Phase 1 training"
      ],
      "metadata": {
        "id": "2BZgWsfxgHn1"
      },
      "id": "2BZgWsfxgHn1"
    },
    {
      "cell_type": "code",
      "source": [
        "train_phase(model, optimizer, train_loader, test_loader, config)\n",
        "\n",
        "torch.save(model.state_dict(), 'models/phase1.pt')"
      ],
      "metadata": {
        "id": "44eTeJ7YgG7r"
      },
      "id": "44eTeJ7YgG7r",
      "execution_count": null,
      "outputs": []
    },
    {
      "cell_type": "markdown",
      "source": [
        "## Prune model, evaluate after pruning"
      ],
      "metadata": {
        "id": "AvnS7odcgMHa"
      },
      "id": "AvnS7odcgMHa"
    },
    {
      "cell_type": "code",
      "source": [
        "# prune model + applying mask s.t params stay zeroed\n",
        "ASP.prune_trained_model(model, optimizer)\n",
        "\n",
        "torch.save(model.state_dict(), 'models/phase1_pruned.pt')"
      ],
      "metadata": {
        "id": "p_uJdAwwMYNr"
      },
      "id": "p_uJdAwwMYNr",
      "execution_count": null,
      "outputs": []
    },
    {
      "cell_type": "code",
      "source": [
        "# evaluate on train + test data\n",
        "train_loss, train_acc = test_epoch(model, train_loader, config.device)\n",
        "test_loss, test_acc = test_epoch(model, test_loader, config.device)\n",
        "\n",
        "epoch_summary({\n",
        "\"train loss\": train_loss,\n",
        "\"train acc\": train_acc,\n",
        "\"test loss\": test_loss,\n",
        "\"test acc\": test_acc,\n",
        "})"
      ],
      "metadata": {
        "id": "VwLzoTgIitpg"
      },
      "id": "VwLzoTgIitpg",
      "execution_count": null,
      "outputs": []
    },
    {
      "cell_type": "markdown",
      "source": [
        "## Phase 2 training"
      ],
      "metadata": {
        "id": "ys-25Hkjgcos"
      },
      "id": "ys-25Hkjgcos"
    },
    {
      "cell_type": "code",
      "source": [
        "train_phase(model, optimizer, train_loader, test_loader, config)\n",
        "\n",
        "torch.save(model.state_dict(), 'models/phase2.pt')"
      ],
      "metadata": {
        "id": "VH9NrXiIMb6p"
      },
      "id": "VH9NrXiIMb6p",
      "execution_count": null,
      "outputs": []
    },
    {
      "cell_type": "markdown",
      "source": [
        "## Train from original init with mask (LTH)"
      ],
      "metadata": {
        "id": "rroi_bAzgfXY"
      },
      "id": "rroi_bAzgfXY"
    },
    {
      "cell_type": "code",
      "source": [
        "# apply mask to init params then load into model\n",
        "model.load_state_dict(mask_checkpoint(torch.load('init.pt'), model), strict=False)\n",
        "\n",
        "torch.save(model.state_dict(), 'models/init_pruned.pt')\n",
        "\n",
        "train_phase(model, optimizer, train_loader, test_loader, config)\n",
        "\n",
        "torch.save(model.state_dict(), 'models/lottery_ticket.pt')"
      ],
      "metadata": {
        "id": "WuXJurWnX62K"
      },
      "id": "WuXJurWnX62K",
      "execution_count": null,
      "outputs": []
    },
    {
      "cell_type": "markdown",
      "source": [
        "## Train from random init with mask"
      ],
      "metadata": {
        "id": "CUcOsL1hglXs"
      },
      "id": "CUcOsL1hglXs"
    },
    {
      "cell_type": "code",
      "source": [
        "torch.manual_seed(config.seed + 1)\n",
        "\n",
        "# produce new initalisation\n",
        "new_init_params = resnet18_small_input().cuda().state_dict()\n",
        "\n",
        "torch.save(new_init_params, 'models/new_init.pt')\n",
        "\n",
        "# apply mask to params then load into model\n",
        "model.load_state_dict(mask_checkpoint(new_init_params, model), strict=False)\n",
        "\n",
        "torch.save(model.state_dict(), 'models/new_init_pruned.pt')\n",
        "\n",
        "train_phase(model, optimizer, train_loader, test_loader, config)\n",
        "\n",
        "torch.save(model.state_dict(), 'models/random_lottery_ticket.pt')"
      ],
      "metadata": {
        "id": "EdiettL2gyjU"
      },
      "id": "EdiettL2gyjU",
      "execution_count": null,
      "outputs": []
    }
  ],
  "metadata": {
    "accelerator": "GPU",
    "colab": {
      "provenance": []
    },
    "gpuClass": "standard",
    "kernelspec": {
      "display_name": "Python 3",
      "language": "python",
      "name": "python3"
    },
    "language_info": {
      "codemirror_mode": {
        "name": "ipython",
        "version": 3
      },
      "file_extension": ".py",
      "mimetype": "text/x-python",
      "name": "python",
      "nbconvert_exporter": "python",
      "pygments_lexer": "ipython3",
      "version": "3.8.8"
    },
    "vscode": {
      "interpreter": {
        "hash": "533dc1b5f6751e9c738350df3cd1b0ef5f569dd461507537431de13a6c09381e"
      }
    }
  },
  "nbformat": 4,
  "nbformat_minor": 5
}