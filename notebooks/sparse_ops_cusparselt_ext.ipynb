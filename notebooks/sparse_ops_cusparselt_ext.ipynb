{
  "nbformat": 4,
  "nbformat_minor": 0,
  "metadata": {
    "colab": {
      "provenance": []
    },
    "kernelspec": {
      "name": "python3",
      "display_name": "Python 3"
    },
    "language_info": {
      "name": "python"
    },
    "accelerator": "GPU",
    "gpuClass": "standard"
  },
  "cells": [
    {
      "cell_type": "code",
      "source": [
        "# reload modules in .py files\n",
        "%load_ext autoreload\n",
        "%autoreload 2"
      ],
      "metadata": {
        "id": "e7g08cqjJ0ti",
        "colab": {
          "base_uri": "https://localhost:8080/"
        },
        "outputId": "6961b9b0-017f-434d-ac75-ed23ad3ed5c5"
      },
      "execution_count": 10,
      "outputs": [
        {
          "output_type": "stream",
          "name": "stdout",
          "text": [
            "The autoreload extension is already loaded. To reload it, use:\n",
            "  %reload_ext autoreload\n"
          ]
        }
      ]
    },
    {
      "cell_type": "code",
      "source": [
        "!ls /usr/local/cuda-11.2"
      ],
      "metadata": {
        "colab": {
          "base_uri": "https://localhost:8080/"
        },
        "id": "BKTBZ8-DAzL0",
        "outputId": "289d6431-2859-4e23-aba7-522c0c7d8a52"
      },
      "execution_count": 11,
      "outputs": [
        {
          "output_type": "stream",
          "name": "stdout",
          "text": [
            "bin\t\t   EULA.txt  libnvvp\t       nvvm-prev  src\n",
            "compat\t\t   extras    nsightee_plugins  README\t  targets\n",
            "compute-sanitizer  include   nvml\t       samples\t  tools\n",
            "DOCS\t\t   lib64     nvvm\t       share\t  version.json\n"
          ]
        }
      ]
    },
    {
      "cell_type": "code",
      "source": [
        "!nvcc --version"
      ],
      "metadata": {
        "id": "t15bzfcFL05w",
        "outputId": "b72b574c-efbf-42c4-9138-93c26b308aff",
        "colab": {
          "base_uri": "https://localhost:8080/"
        }
      },
      "execution_count": 3,
      "outputs": [
        {
          "output_type": "stream",
          "name": "stdout",
          "text": [
            "nvcc: NVIDIA (R) Cuda compiler driver\n",
            "Copyright (c) 2005-2021 NVIDIA Corporation\n",
            "Built on Sun_Feb_14_21:12:58_PST_2021\n",
            "Cuda compilation tools, release 11.2, V11.2.152\n",
            "Build cuda_11.2.r11.2/compiler.29618528_0\n"
          ]
        }
      ]
    },
    {
      "cell_type": "code",
      "source": [
        "import os\n",
        "LD_LIBRARY_PATH = '/usr/lib64-nvidia'\n",
        "CUSPARSELT_DIR = '/content/libcusparse_lt-linux-x86_64-0.3.0.3-archive'\n",
        "LD_LIBRARY_PATH = CUSPARSELT_DIR + '/lib64:' + LD_LIBRARY_PATH\n",
        "os.environ['LD_LIBRARY_PATH'] = LD_LIBRARY_PATH"
      ],
      "metadata": {
        "id": "NTCWvqyaTiiq"
      },
      "execution_count": null,
      "outputs": []
    },
    {
      "cell_type": "code",
      "source": [
        "%set_env CUSPARSELT_DIR=/content/libcusparse_lt-linux-x86_64-0.3.0.3-archive\n",
        "%set_env CUSPARSELT_PATH=/content/libcusparse_lt-linux-x86_64-0.3.0.3-archive\n",
        "%set_env LD_LIBRARY_PATH=/content/libcusparse_lt-linux-x86_64-0.3.0.3-archive/lib64:/usr/lib64-nvidia:/content/libcusparse_lt-linux-x86_64-0.3.0.3-archive/lib/\n",
        "# !export CUDA_TOOLKIT=$(dirname $(realpath $(which nvcc))/..)\n",
        "!echo $CUSPARSELT_DIR\n",
        "!echo $LD_LIBRARY_PATH\n",
        "!echo $CUDA_TOOLKIT\n",
        "!ldconfig"
      ],
      "metadata": {
        "id": "okF-hTmwSwPI"
      },
      "execution_count": null,
      "outputs": []
    },
    {
      "cell_type": "code",
      "source": [
        "# Compile and run sample cuSPARSElt code\n",
        "# CUSPARSELT_DIR='/content/libcusparse_lt-linux-x86_64-0.3.0.3-archive'\n",
        "# !nvcc cusparselt_example.cu -I${CUSPARSELT_DIR}/include -lcusparseLt -ldl -o spmma_example\n",
        "# !nvcc cusparselt_example.cu -I${CUSPARSELT_DIR}/include                               \\\n",
        "#                       -Xlinker=--whole-archive                                  \\\n",
        "#                       -Xlinker=${CUSPARSELT_DIR}/lib64/libcusparseLt_static.a   \\\n",
        "#                       -Xlinker=--no-whole-archive -o spmma_example_static       \\\n",
        "#                       -ldl\n",
        "!make clean && make # && make test"
      ],
      "metadata": {
        "id": "lEuI2cyIUkPW"
      },
      "execution_count": null,
      "outputs": []
    },
    {
      "cell_type": "code",
      "source": [
        "!find / -name libcusparseLt.so\n",
        "!which nvcc\n",
        "# !$(abspath $(dirname $(which nvcc))/..)\n",
        "# !$(dirname $(realpath $(which nvcc))/../..)\n",
        "!$(builtin cd $(dirname $(realpath $(which nvcc)))/..; pwd)\n",
        "!pwd"
      ],
      "metadata": {
        "colab": {
          "base_uri": "https://localhost:8080/"
        },
        "id": "EGc_hNBxHy6e",
        "outputId": "d060325f-4da9-4be3-d09e-d9e6b23b2118"
      },
      "execution_count": 5,
      "outputs": [
        {
          "output_type": "stream",
          "name": "stdout",
          "text": [
            "find: ‘/proc/54/task/54/net’: Invalid argument\n",
            "find: ‘/proc/54/net’: Invalid argument\n",
            "/usr/local/cuda/bin/nvcc\n",
            "/bin/bash: /usr/local/cuda-11.2: Is a directory\n",
            "/content\n"
          ]
        }
      ]
    },
    {
      "cell_type": "code",
      "source": [
        "!find / -name '*libcusparse*'"
      ],
      "metadata": {
        "id": "9P0QXgCeZVw-",
        "outputId": "1931b940-fd2e-4410-d918-c028c9620ba1",
        "colab": {
          "base_uri": "https://localhost:8080/"
        }
      },
      "execution_count": 26,
      "outputs": [
        {
          "output_type": "stream",
          "name": "stdout",
          "text": [
            "/usr/share/doc/libcusparse-dev-11-2\n",
            "/usr/share/doc/libcusparse-11-2\n",
            "/usr/local/cuda-11.2/targets/x86_64-linux/lib/libcusparseLt.so.0.3.0.3\n",
            "/usr/local/cuda-11.2/targets/x86_64-linux/lib/libcusparseLt.so\n",
            "/usr/local/cuda-11.2/targets/x86_64-linux/lib/libcusparseLt_static.a\n",
            "/usr/local/cuda-11.2/targets/x86_64-linux/lib/libcusparseLt.so.0\n",
            "/usr/local/cuda-11.2/targets/x86_64-linux/lib/libcusparse.so\n",
            "/usr/local/cuda-11.2/targets/x86_64-linux/lib/stubs/libcusparse.so\n",
            "/usr/local/cuda-11.2/targets/x86_64-linux/lib/libcusparse_static.a\n",
            "/usr/local/cuda-11.2/targets/x86_64-linux/lib/libcusparse.so.11.4.1.1152\n",
            "/usr/local/cuda-11.2/targets/x86_64-linux/lib/libcusparse.so.11\n",
            "find: ‘/proc/54/task/54/net’: Invalid argument\n",
            "find: ‘/proc/54/net’: Invalid argument\n",
            "/var/lib/dpkg/info/libcusparse-dev-11-2.md5sums\n",
            "/var/lib/dpkg/info/libcusparse-dev-11-2.list\n",
            "/var/lib/dpkg/info/libcusparse-11-2.md5sums\n",
            "/var/lib/dpkg/info/libcusparse-11-2.list\n",
            "/content/libcusparse_lt-linux-x86_64-0.3.0.3-archive\n",
            "/content/libcusparse_lt-linux-x86_64-0.3.0.3-archive/lib/libcusparseLt.so.0.3.0.3\n",
            "/content/libcusparse_lt-linux-x86_64-0.3.0.3-archive/lib/libcusparseLt.so\n",
            "/content/libcusparse_lt-linux-x86_64-0.3.0.3-archive/lib/libcusparseLt_static.a\n",
            "/content/libcusparse_lt-linux-x86_64-0.3.0.3-archive/lib/libcusparseLt.so.0\n",
            "/content/sparsity/ops/libcusparse_lt-linux-x86_64-0.3.0.3-archive.tar.xz\n"
          ]
        }
      ]
    },
    {
      "cell_type": "code",
      "source": [
        "!pwd\n",
        "!cd $(dirname /usr/local/cuda-11.2/bin/nvcc)/.. && pwd\n",
        "!$(cd $(dirname /usr/local/cuda-11.2/bin/nvcc)/.. && pwd)\n",
        "!pwd"
      ],
      "metadata": {
        "colab": {
          "base_uri": "https://localhost:8080/"
        },
        "id": "Pq-yOLot3fnF",
        "outputId": "063df9f2-df3c-4257-fcb4-bce07f88c1c9"
      },
      "execution_count": 38,
      "outputs": [
        {
          "output_type": "stream",
          "name": "stdout",
          "text": [
            "/content/sparsity/ops\n",
            "/usr/local/cuda-11.2\n",
            "/bin/bash: /usr/local/cuda-11.2: Is a directory\n",
            "/content/sparsity/ops\n"
          ]
        }
      ]
    },
    {
      "cell_type": "code",
      "source": [
        "# pull repo\n",
        "!git clone https://github.com/char-tan/sparsity"
      ],
      "metadata": {
        "id": "bRaMT-oNJvfI",
        "colab": {
          "base_uri": "https://localhost:8080/"
        },
        "outputId": "16fde3b9-1eee-45b1-dba2-ff0841c3863f"
      },
      "execution_count": 13,
      "outputs": [
        {
          "output_type": "stream",
          "name": "stdout",
          "text": [
            "Cloning into 'sparsity'...\n",
            "remote: Enumerating objects: 201, done.\u001b[K\n",
            "remote: Counting objects: 100% (18/18), done.\u001b[K\n",
            "remote: Compressing objects: 100% (12/12), done.\u001b[K\n",
            "remote: Total 201 (delta 5), reused 15 (delta 5), pack-reused 183\u001b[K\n",
            "Receiving objects: 100% (201/201), 277.94 MiB | 32.60 MiB/s, done.\n",
            "Resolving deltas: 100% (92/92), done.\n"
          ]
        }
      ]
    },
    {
      "cell_type": "code",
      "source": [
        "# change working directory\n",
        "import os\n",
        "os.chdir('sparsity/ops')"
      ],
      "metadata": {
        "id": "nrV0RsgRJ2xZ"
      },
      "execution_count": 14,
      "outputs": []
    },
    {
      "cell_type": "code",
      "source": [
        "!git checkout sd_dev"
      ],
      "metadata": {
        "id": "Pb3TRf5knTqP",
        "outputId": "c067cfea-ac76-428d-d5d6-a11882cbc30a",
        "colab": {
          "base_uri": "https://localhost:8080/"
        }
      },
      "execution_count": 15,
      "outputs": [
        {
          "output_type": "stream",
          "name": "stdout",
          "text": [
            "Branch 'sd_dev' set up to track remote branch 'sd_dev' from 'origin'.\n",
            "Switched to a new branch 'sd_dev'\n"
          ]
        }
      ]
    },
    {
      "cell_type": "code",
      "source": [
        "%%bash\n",
        "\n",
        "# Download and setup the cuSPARSELT library\n",
        "\n",
        "# pip3 uninstall cupy-cuda11x\n",
        "\n",
        "# wget https://developer.download.nvidia.com/compute/cusparselt/redist/libcusparse-lt/linux-x86_64/libcusparse_lt-linux-x86_64-0.3.0.3-archive.tar.xz\n",
        "# tar -xf libcusparse_lt-linux-x86_64-0.3.0.3-archive.tar.xz\n",
        "# cp -T libcusparse_lt-linux-x86_64-0.3.0.3-archive /content/libcusparse_lt-linux-x86_64-0.3.0.3-archive \n",
        "cp /content/libcusparse_lt-linux-x86_64-0.3.0.3-archive/lib/libcusparseLt* /usr/local/cuda-11.2/targets/x86_64-linux/lib\n",
        "cp /content/libcusparse_lt-linux-x86_64-0.3.0.3-archive/lib/libcusparseLt.so /usr/local/cuda-11.2/targets/x86_64-linux/lib/stubs\n",
        "cp /content/libcusparse_lt-linux-x86_64-0.3.0.3-archive/include/cusparseLt.h /usr/local/cuda-11.2/include\n",
        "\n",
        "export CUSPARSELT_DIR=/content/libcusparse_lt-linux-x86_64-0.3.0.3-archive\n",
        "export CUSPARSELT_PATH=/content/libcusparse_lt-linux-x86_64-0.3.0.3-archive\n",
        "export LD_LIBRARY_PATH=/content/libcusparse_lt-linux-x86_64-0.3.0.3-archive/lib:/usr/lib64-nvidia # :/content/libcusparse_lt-linux-x86_64-0.3.0.3-archive/lib/\n",
        "# export CUDA_TOOLKIT=$(dirname $(realpath $(which nvcc))/..)\n",
        "export CUDA_TOOLKIT=/usr/local/cuda-11.2 # HACK to replace line above\n",
        "echo \"Important variables:\"\n",
        "echo $CUSPARSELT_DIR\n",
        "echo $CUSPARSELT_PATH\n",
        "echo $LD_LIBRARY_PATH\n",
        "echo $CUDA_TOOLKIT\n",
        "ldconfig\n",
        "\n",
        "CUDA_PATH=/usr/local/cuda-11.2\n",
        "pip3 install cupy-cuda112 --no-cache-dir\n",
        "\n",
        "\n",
        "# Install our PyTorch extension\n",
        "# python setup.py install\n",
        "# pip3 install .\n"
      ],
      "metadata": {
        "id": "fw__zgMNciQL",
        "outputId": "c100c8b3-70cd-4d93-d1df-066fc8889f30",
        "colab": {
          "base_uri": "https://localhost:8080/"
        }
      },
      "execution_count": 46,
      "outputs": [
        {
          "output_type": "stream",
          "name": "stdout",
          "text": [
            "Important variables:\n",
            "/content/libcusparse_lt-linux-x86_64-0.3.0.3-archive\n",
            "/content/libcusparse_lt-linux-x86_64-0.3.0.3-archive\n",
            "/content/libcusparse_lt-linux-x86_64-0.3.0.3-archive/lib:/usr/lib64-nvidia\n",
            "/usr/local/cuda-11.2\n",
            "Looking in indexes: https://pypi.org/simple, https://us-python.pkg.dev/colab-wheels/public/simple/\n",
            "Collecting cupy-cuda112\n",
            "  Downloading cupy_cuda112-10.6.0-cp38-cp38-manylinux1_x86_64.whl (80.8 MB)\n",
            "     ━━━━━━━━━━━━━━━━━━━━━━━━━━━━━━━━━━━━━━━ 80.8/80.8 MB 146.1 MB/s eta 0:00:00\n",
            "Requirement already satisfied: fastrlock>=0.5 in /usr/local/lib/python3.8/dist-packages (from cupy-cuda112) (0.8.1)\n",
            "Requirement already satisfied: numpy<1.25,>=1.18 in /usr/local/lib/python3.8/dist-packages (from cupy-cuda112) (1.21.6)\n",
            "Installing collected packages: cupy-cuda112\n",
            "Successfully installed cupy-cuda112-10.6.0\n"
          ]
        },
        {
          "output_type": "stream",
          "name": "stderr",
          "text": [
            "/sbin/ldconfig.real: /usr/local/cuda/targets/x86_64-linux/lib/libcusparseLt.so.0 is not a symbolic link\n",
            "\n"
          ]
        }
      ]
    },
    {
      "cell_type": "code",
      "source": [
        "import cupy\n",
        "cupy.show_config()"
      ],
      "metadata": {
        "id": "2zSXbWyeqMPQ",
        "outputId": "56afb4b5-7e06-4588-97bb-a9d68e6001bd",
        "colab": {
          "base_uri": "https://localhost:8080/"
        }
      },
      "execution_count": 47,
      "outputs": [
        {
          "output_type": "stream",
          "name": "stdout",
          "text": [
            "OS                           : Linux-5.10.147+-x86_64-with-glibc2.27\n",
            "Python Version               : 3.8.16\n",
            "CuPy Version                 : 10.6.0\n",
            "CuPy Platform                : NVIDIA CUDA\n",
            "NumPy Version                : 1.21.6\n",
            "SciPy Version                : 1.7.3\n",
            "Cython Build Version         : 0.29.24\n",
            "Cython Runtime Version       : 0.29.32\n",
            "CUDA Root                    : /usr/local/cuda\n",
            "nvcc PATH                    : /usr/local/cuda/bin/nvcc\n",
            "CUDA Build Version           : 11020\n",
            "CUDA Driver Version          : 11020\n",
            "CUDA Runtime Version         : 11060\n",
            "cuBLAS Version               : (available)\n",
            "cuFFT Version                : 10401\n",
            "cuRAND Version               : 10203\n",
            "cuSOLVER Version             : (11, 1, 0)\n",
            "cuSPARSE Version             : (available)\n",
            "NVRTC Version                : (11, 2)\n",
            "Thrust Version               : 101000\n",
            "CUB Build Version            : 101000\n",
            "Jitify Build Version         : 4a37de0\n",
            "cuDNN Build Version          : 8400\n",
            "cuDNN Version                : 8302\n",
            "NCCL Build Version           : 2804\n",
            "NCCL Runtime Version         : 2804\n",
            "cuTENSOR Version             : None\n",
            "cuSPARSELt Build Version     : None\n",
            "Device 0 Name                : Tesla T4\n",
            "Device 0 Compute Capability  : 75\n",
            "Device 0 PCI Bus ID          : 0000:00:04.0\n"
          ]
        }
      ]
    },
    {
      "cell_type": "code",
      "source": [
        "# Setup cuSPARSELt and install our custom pytorch extension\n",
        "!chmod +rwx install.sh\n",
        "!./install.sh"
      ],
      "metadata": {
        "colab": {
          "base_uri": "https://localhost:8080/"
        },
        "id": "CU06MjKJX0Bw",
        "outputId": "3242169b-2ab3-4aaa-cfff-7686c381fea2"
      },
      "execution_count": 45,
      "outputs": [
        {
          "output_type": "stream",
          "name": "stdout",
          "text": [
            "Important variables:\n",
            "/content/libcusparse_lt-linux-x86_64-0.3.0.3-archive\n",
            "/content/libcusparse_lt-linux-x86_64-0.3.0.3-archive\n",
            "/content/libcusparse_lt-linux-x86_64-0.3.0.3-archive/lib:/usr/lib64-nvidia\n",
            "/usr/local/cuda-11.2\n",
            "/sbin/ldconfig.real: /usr/local/cuda/targets/x86_64-linux/lib/libcusparseLt.so.0 is not a symbolic link\n",
            "\n",
            "running install\n",
            "running bdist_egg\n",
            "running egg_info\n",
            "writing ops_cpp.egg-info/PKG-INFO\n",
            "writing dependency_links to ops_cpp.egg-info/dependency_links.txt\n",
            "writing top-level names to ops_cpp.egg-info/top_level.txt\n",
            "/usr/local/lib/python3.8/dist-packages/torch/utils/cpp_extension.py:476: UserWarning: Attempted to use ninja as the BuildExtension backend but we could not find ninja.. Falling back to using the slow distutils backend.\n",
            "  warnings.warn(msg.format('we could not find ninja.'))\n",
            "writing manifest file 'ops_cpp.egg-info/SOURCES.txt'\n",
            "installing library code to build/bdist.linux-x86_64/egg\n",
            "running install_lib\n",
            "running build_ext\n",
            "/usr/local/lib/python3.8/dist-packages/torch/utils/cpp_extension.py:387: UserWarning: The detected CUDA version (11.2) has a minor version mismatch with the version that was used to compile PyTorch (11.6). Most likely this shouldn't be a problem.\n",
            "  warnings.warn(CUDA_MISMATCH_WARN.format(cuda_str_version, torch.version.cuda))\n",
            "building 'ops_cpp' extension\n",
            "x86_64-linux-gnu-gcc -pthread -Wno-unused-result -Wsign-compare -DNDEBUG -g -fwrapv -O2 -Wall -g -fstack-protector-strong -Wformat -Werror=format-security -g -fwrapv -O2 -g -fstack-protector-strong -Wformat -Werror=format-security -Wdate-time -D_FORTIFY_SOURCE=2 -fPIC -I['/usr/local/lib/python3.8/dist-packages/torch/include', '/usr/local/lib/python3.8/dist-packages/torch/include/torch/csrc/api/include', '/usr/local/lib/python3.8/dist-packages/torch/include/TH', '/usr/local/lib/python3.8/dist-packages/torch/include/THC', '/usr/local/cuda/include'] -I$/content/libcusparse_lt-linux-x86_64-0.3.0.3-archive/include -I/usr/local/lib/python3.8/dist-packages/torch/include -I/usr/local/lib/python3.8/dist-packages/torch/include/torch/csrc/api/include -I/usr/local/lib/python3.8/dist-packages/torch/include/TH -I/usr/local/lib/python3.8/dist-packages/torch/include/THC -I/usr/local/cuda/include -I/usr/include/python3.8 -c ops_cuda.cpp -o build/temp.linux-x86_64-3.8/ops_cuda.o -DTORCH_API_INCLUDE_EXTENSION_H -DPYBIND11_COMPILER_TYPE=\"_gcc\" -DPYBIND11_STDLIB=\"_libstdcpp\" -DPYBIND11_BUILD_ABI=\"_cxxabi1011\" -DTORCH_EXTENSION_NAME=ops_cpp -D_GLIBCXX_USE_CXX11_ABI=0 -std=c++14\n",
            "\u001b[01m\u001b[Kops_cuda.cpp:272:0:\u001b[m\u001b[K \u001b[01;35m\u001b[Kwarning: \u001b[m\u001b[K\"CHECK_CUDA\" redefined\n",
            " #define CHECK_CUDA(x) TORCH_CHECK(x.device().is_cuda(), #x \" must be a CUDA tensor\")\n",
            " \n",
            "\u001b[01m\u001b[Kops_cuda.cpp:10:0:\u001b[m\u001b[K \u001b[01;36m\u001b[Knote: \u001b[m\u001b[Kthis is the location of the previous definition\n",
            " #define CHECK_CUDA(func)                                                       \\\n",
            " \n",
            "/usr/local/cuda/bin/nvcc -I['/usr/local/lib/python3.8/dist-packages/torch/include', '/usr/local/lib/python3.8/dist-packages/torch/include/torch/csrc/api/include', '/usr/local/lib/python3.8/dist-packages/torch/include/TH', '/usr/local/lib/python3.8/dist-packages/torch/include/THC', '/usr/local/cuda/include'] -I$/content/libcusparse_lt-linux-x86_64-0.3.0.3-archive/include -I/usr/local/lib/python3.8/dist-packages/torch/include -I/usr/local/lib/python3.8/dist-packages/torch/include/torch/csrc/api/include -I/usr/local/lib/python3.8/dist-packages/torch/include/TH -I/usr/local/lib/python3.8/dist-packages/torch/include/THC -I/usr/local/cuda/include -I/usr/include/python3.8 -c ops_cuda_kernel.cu -o build/temp.linux-x86_64-3.8/ops_cuda_kernel.o -D__CUDA_NO_HALF_OPERATORS__ -D__CUDA_NO_HALF_CONVERSIONS__ -D__CUDA_NO_BFLOAT16_CONVERSIONS__ -D__CUDA_NO_HALF2_OPERATORS__ --expt-relaxed-constexpr --compiler-options '-fPIC' -DTORCH_API_INCLUDE_EXTENSION_H -DPYBIND11_COMPILER_TYPE=\"_gcc\" -DPYBIND11_STDLIB=\"_libstdcpp\" -DPYBIND11_BUILD_ABI=\"_cxxabi1011\" -DTORCH_EXTENSION_NAME=ops_cpp -D_GLIBCXX_USE_CXX11_ABI=0 -gencode=arch=compute_75,code=compute_75 -gencode=arch=compute_75,code=sm_75 -std=c++14\n",
            "x86_64-linux-gnu-g++ -pthread -shared -Wl,-O1 -Wl,-Bsymbolic-functions -Wl,-Bsymbolic-functions -g -fwrapv -O2 -Wl,-Bsymbolic-functions -g -fwrapv -O2 -g -fstack-protector-strong -Wformat -Werror=format-security -Wdate-time -D_FORTIFY_SOURCE=2 build/temp.linux-x86_64-3.8/ops_cuda.o build/temp.linux-x86_64-3.8/ops_cuda_kernel.o -L/usr/local/lib/python3.8/dist-packages/torch/lib -L/usr/local/cuda/lib64 -lc10 -ltorch -ltorch_cpu -ltorch_python -lcudart -lc10_cuda -ltorch_cuda_cu -ltorch_cuda_cpp -o build/lib.linux-x86_64-3.8/ops_cpp.cpython-38-x86_64-linux-gnu.so\n",
            "creating build/bdist.linux-x86_64/egg\n",
            "copying build/lib.linux-x86_64-3.8/ops_cpp.cpython-38-x86_64-linux-gnu.so -> build/bdist.linux-x86_64/egg\n",
            "creating stub loader for ops_cpp.cpython-38-x86_64-linux-gnu.so\n",
            "byte-compiling build/bdist.linux-x86_64/egg/ops_cpp.py to ops_cpp.cpython-38.pyc\n",
            "creating build/bdist.linux-x86_64/egg/EGG-INFO\n",
            "copying ops_cpp.egg-info/PKG-INFO -> build/bdist.linux-x86_64/egg/EGG-INFO\n",
            "copying ops_cpp.egg-info/SOURCES.txt -> build/bdist.linux-x86_64/egg/EGG-INFO\n",
            "copying ops_cpp.egg-info/dependency_links.txt -> build/bdist.linux-x86_64/egg/EGG-INFO\n",
            "copying ops_cpp.egg-info/top_level.txt -> build/bdist.linux-x86_64/egg/EGG-INFO\n",
            "writing build/bdist.linux-x86_64/egg/EGG-INFO/native_libs.txt\n",
            "zip_safe flag not set; analyzing archive contents...\n",
            "__pycache__.ops_cpp.cpython-38: module references __file__\n",
            "creating 'dist/ops_cpp-0.0.0-py3.8-linux-x86_64.egg' and adding 'build/bdist.linux-x86_64/egg' to it\n",
            "removing 'build/bdist.linux-x86_64/egg' (and everything under it)\n",
            "Processing ops_cpp-0.0.0-py3.8-linux-x86_64.egg\n",
            "removing '/usr/local/lib/python3.8/dist-packages/ops_cpp-0.0.0-py3.8-linux-x86_64.egg' (and everything under it)\n",
            "creating /usr/local/lib/python3.8/dist-packages/ops_cpp-0.0.0-py3.8-linux-x86_64.egg\n",
            "Extracting ops_cpp-0.0.0-py3.8-linux-x86_64.egg to /usr/local/lib/python3.8/dist-packages\n",
            "ops-cpp 0.0.0 is already the active version in easy-install.pth\n",
            "\n",
            "Installed /usr/local/lib/python3.8/dist-packages/ops_cpp-0.0.0-py3.8-linux-x86_64.egg\n",
            "Processing dependencies for ops-cpp==0.0.0\n",
            "Finished processing dependencies for ops-cpp==0.0.0\n",
            "Looking in indexes: https://pypi.org/simple, https://us-python.pkg.dev/colab-wheels/public/simple/\n",
            "Processing /content/sparsity/ops\n",
            "  Preparing metadata (setup.py) ... \u001b[?25l\u001b[?25hdone\n",
            "Building wheels for collected packages: ops-cpp\n",
            "  Building wheel for ops-cpp (setup.py) ... \u001b[?25l\u001b[?25hdone\n",
            "  Created wheel for ops-cpp: filename=ops_cpp-0.0.0-cp38-cp38-linux_x86_64.whl size=2435335 sha256=e26d2c355d3e8670605f20572401659df2eccd45c5eee15d32b31ef895d682ba\n",
            "  Stored in directory: /tmp/pip-ephem-wheel-cache-pbmpx6d3/wheels/a0/60/38/cf329a695010b267296cd00c31c2a180e9d57ca424280b3d28\n",
            "Successfully built ops-cpp\n",
            "Installing collected packages: ops-cpp\n",
            "  Attempting uninstall: ops-cpp\n",
            "    Found existing installation: ops-cpp 0.0.0\n",
            "    Uninstalling ops-cpp-0.0.0:\n",
            "      Successfully uninstalled ops-cpp-0.0.0\n",
            "Successfully installed ops-cpp-0.0.0\n"
          ]
        }
      ]
    },
    {
      "cell_type": "code",
      "source": [
        "!rm -rf build dist ops_cpp.egg-info/"
      ],
      "metadata": {
        "id": "Gt_7q5cE2G5c"
      },
      "execution_count": 40,
      "outputs": []
    },
    {
      "cell_type": "code",
      "source": [
        "import torch\n",
        "import ops_cpp\n",
        "# import cupy\n",
        "# cupy.show_config()"
      ],
      "metadata": {
        "id": "dcHaSKr6lQkp",
        "outputId": "27c059d0-afcc-4700-dacf-79fdddc0e9ba",
        "colab": {
          "base_uri": "https://localhost:8080/",
          "height": 388
        }
      },
      "execution_count": 44,
      "outputs": [
        {
          "output_type": "error",
          "ename": "ImportError",
          "evalue": "ignored",
          "traceback": [
            "\u001b[0;31m---------------------------------------------------------------------------\u001b[0m",
            "\u001b[0;31mImportError\u001b[0m                               Traceback (most recent call last)",
            "\u001b[0;32m<ipython-input-44-52352068c43a>\u001b[0m in \u001b[0;36m<module>\u001b[0;34m\u001b[0m\n\u001b[1;32m      1\u001b[0m \u001b[0;32mimport\u001b[0m \u001b[0mtorch\u001b[0m\u001b[0;34m\u001b[0m\u001b[0;34m\u001b[0m\u001b[0m\n\u001b[0;32m----> 2\u001b[0;31m \u001b[0;32mimport\u001b[0m \u001b[0mops_cpp\u001b[0m\u001b[0;34m\u001b[0m\u001b[0;34m\u001b[0m\u001b[0m\n\u001b[0m\u001b[1;32m      3\u001b[0m \u001b[0;31m# import cupy\u001b[0m\u001b[0;34m\u001b[0m\u001b[0;34m\u001b[0m\u001b[0;34m\u001b[0m\u001b[0m\n\u001b[1;32m      4\u001b[0m \u001b[0;31m# cupy.show_config()\u001b[0m\u001b[0;34m\u001b[0m\u001b[0;34m\u001b[0m\u001b[0;34m\u001b[0m\u001b[0m\n",
            "\u001b[0;31mImportError\u001b[0m: /usr/local/lib/python3.8/dist-packages/ops_cpp.cpython-38-x86_64-linux-gnu.so: undefined symbol: cusparseLtMatDescriptorDestroy",
            "",
            "\u001b[0;31m---------------------------------------------------------------------------\u001b[0;32m\nNOTE: If your import is failing due to a missing package, you can\nmanually install dependencies using either !pip or !apt.\n\nTo view examples of installing some common dependencies, click the\n\"Open Examples\" button below.\n\u001b[0;31m---------------------------------------------------------------------------\u001b[0m\n"
          ],
          "errorDetails": {
            "actions": [
              {
                "action": "open_url",
                "actionText": "Open Examples",
                "url": "/notebooks/snippets/importing_libraries.ipynb"
              }
            ]
          }
        }
      ]
    },
    {
      "cell_type": "code",
      "source": [
        "#\n",
        "# Example of matrix multiply using cuSPARSELt\n",
        "#\n",
        "# (*) https://docs.nvidia.com/cuda/cusparselt/getting_started.html#code-example\n",
        "#\n",
        "import cupy\n",
        "import numpy\n",
        "os.environ['CUSPARSELT_PATH'] = '/content/libcusparse_lt-linux-x86_64-0.3.0.3-archive'\n",
        "os.environ['CUSPARSELT_DIR'] = '/content/libcusparse_lt-linux-x86_64-0.3.0.3-archive'\n",
        "os.environ['LD_LIBRARY_PATH'] = '/content/libcusparse_lt-linux-x86_64-0.3.0.3-archive/lib:/usr/lib64-nvidia'\n",
        "os.system('ldconfig')\n",
        "\n",
        "from cupy.cuda import runtime\n",
        "import cupy_backends.cuda.libs.cusparse\n",
        "print(cupy_backends.cuda.libs.cusparse.)\n",
        "from cupy_backends.cuda.libs.cusparselt import Handle, MatDescriptor, MatmulDescriptor, MatmulAlgSelection, MatmulPlan  # NOQA\n",
        "from cupy_backends.cuda.libs import cusparselt, cusparse\n",
        "\n",
        "dtype = 'float16'\n",
        "m, n, k = 1024, 1024, 1024\n",
        "A = cupy.random.random((m, k)).astype(dtype)\n",
        "B = cupy.ones((k, n), dtype=dtype)\n",
        "C = cupy.zeros((m, n), dtype=dtype)\n",
        "\n",
        "#\n",
        "# initializes cusparselt handle and data structures\n",
        "#\n",
        "handle = Handle()\n",
        "matA = MatDescriptor()\n",
        "matB = MatDescriptor()\n",
        "matC = MatDescriptor()\n",
        "matmul = MatmulDescriptor()\n",
        "alg_sel = MatmulAlgSelection()\n",
        "plan = MatmulPlan()\n",
        "cusparselt.init(handle)\n",
        "\n",
        "#\n",
        "# initializes matrix descriptors\n",
        "#\n",
        "alignment = 128\n",
        "order = cusparse.CUSPARSE_ORDER_ROW\n",
        "cuda_dtype = runtime.CUDA_R_16F\n",
        "cusparselt.structuredDescriptorInit(handle, matA, A.shape[0], A.shape[1],\n",
        "                                    A.shape[1], alignment, cuda_dtype, order,\n",
        "                                    cusparselt.CUSPARSELT_SPARSITY_50_PERCENT)\n",
        "cusparselt.denseDescriptorInit(handle, matB, B.shape[0], B.shape[1],\n",
        "                               B.shape[1], alignment, cuda_dtype, order)\n",
        "cusparselt.denseDescriptorInit(handle, matC, C.shape[0], C.shape[1],\n",
        "                               C.shape[1], alignment, cuda_dtype, order)\n",
        "\n",
        "#\n",
        "# initializes matmul, algorithm selection and plan\n",
        "#\n",
        "opA = cusparse.CUSPARSE_OPERATION_NON_TRANSPOSE\n",
        "opB = cusparse.CUSPARSE_OPERATION_NON_TRANSPOSE\n",
        "compute_type = cusparselt.CUSPARSE_COMPUTE_16F\n",
        "cusparselt.matmulDescriptorInit(handle, matmul, opA, opB, matA, matB, matC,\n",
        "                                matC, compute_type)\n",
        "cusparselt.matmulAlgSelectionInit(handle, alg_sel, matmul,\n",
        "                                  cusparselt.CUSPARSELT_MATMUL_ALG_DEFAULT)\n",
        "alg = numpy.array(0, dtype='int32')\n",
        "cusparselt.matmulAlgSetAttribute(handle, alg_sel,\n",
        "                                 cusparselt.CUSPARSELT_MATMUL_ALG_CONFIG_ID,\n",
        "                                 alg.ctypes.data, 4)\n",
        "workspace_size = cusparselt.matmulGetWorkspace(handle, alg_sel)\n",
        "workspace = cupy.empty(workspace_size, dtype='int8')\n",
        "cusparselt.matmulPlanInit(handle, plan, matmul, alg_sel, workspace_size)\n",
        "\n",
        "#\n",
        "# prunes the matrix A in-place and checks the correstness\n",
        "#\n",
        "print('Before pruning, A[0]:\\n{}'.format(A[0]))\n",
        "cusparselt.spMMAPrune(handle, matmul, A.data.ptr, A.data.ptr,\n",
        "                      cusparselt.CUSPARSELT_PRUNE_SPMMA_TILE)\n",
        "print('After pruning, A[0]:\\n{}'.format(A[0]))\n",
        "is_valid = numpy.array(-1, dtype='int32')\n",
        "cusparselt.spMMAPruneCheck(handle, matmul, A.data.ptr, is_valid.ctypes.data)\n",
        "\n",
        "#\n",
        "# compresses the matrix A\n",
        "#\n",
        "compressed_size = cusparselt.spMMACompressedSize(handle, plan)\n",
        "A_compressed = cupy.zeros(compressed_size, dtype='uint8')\n",
        "cusparselt.spMMACompress(handle, plan, A.data.ptr, A_compressed.data.ptr)\n",
        "\n",
        "#\n",
        "# matmul: C = A @ B\n",
        "#\n",
        "alpha = numpy.array(1.0, dtype='float32')\n",
        "beta = numpy.array(0.0, dtype='float32')\n",
        "cusparselt.matmul(handle, plan, alpha.ctypes.data, A_compressed.data.ptr,\n",
        "                  B.data.ptr, beta.ctypes.data, C.data.ptr, C.data.ptr,\n",
        "                  workspace.data.ptr)\n",
        "\n",
        "print('A.sum(axis=1): {}'.format(A.sum(axis=1)))\n",
        "print('C[:, 0]: {}'.format(C[:, 0]))\n",
        "\n",
        "#\n",
        "# destroys plan and handle\n",
        "#\n",
        "cusparselt.matDescriptorDestroy(matA)\n",
        "cusparselt.matDescriptorDestroy(matB)\n",
        "cusparselt.matDescriptorDestroy(matC)\n",
        "cusparselt.matmulPlanDestroy(plan)\n",
        "cusparselt.destroy(handle)\n"
      ],
      "metadata": {
        "id": "wKyY2s9M7lp_",
        "outputId": "3d487208-1e22-4e61-a6ca-5a5a7da0cd31",
        "colab": {
          "base_uri": "https://localhost:8080/",
          "height": 261
        }
      },
      "execution_count": 19,
      "outputs": [
        {
          "output_type": "error",
          "ename": "NameError",
          "evalue": "ignored",
          "traceback": [
            "\u001b[0;31m---------------------------------------------------------------------------\u001b[0m",
            "\u001b[0;31mNameError\u001b[0m                                 Traceback (most recent call last)",
            "\u001b[0;32m<ipython-input-19-500111a3e275>\u001b[0m in \u001b[0;36m<module>\u001b[0;34m\u001b[0m\n\u001b[1;32m     13\u001b[0m \u001b[0;32mfrom\u001b[0m \u001b[0mcupy\u001b[0m\u001b[0;34m.\u001b[0m\u001b[0mcuda\u001b[0m \u001b[0;32mimport\u001b[0m \u001b[0mruntime\u001b[0m\u001b[0;34m\u001b[0m\u001b[0;34m\u001b[0m\u001b[0m\n\u001b[1;32m     14\u001b[0m \u001b[0;32mimport\u001b[0m \u001b[0mcupy_backends\u001b[0m\u001b[0;34m.\u001b[0m\u001b[0mcuda\u001b[0m\u001b[0;34m.\u001b[0m\u001b[0mlibs\u001b[0m\u001b[0;34m.\u001b[0m\u001b[0mcusparse\u001b[0m\u001b[0;34m\u001b[0m\u001b[0;34m\u001b[0m\u001b[0m\n\u001b[0;32m---> 15\u001b[0;31m \u001b[0mprint\u001b[0m\u001b[0;34m(\u001b[0m\u001b[0mcusparse\u001b[0m\u001b[0;34m)\u001b[0m\u001b[0;34m\u001b[0m\u001b[0;34m\u001b[0m\u001b[0m\n\u001b[0m\u001b[1;32m     16\u001b[0m \u001b[0;32mfrom\u001b[0m \u001b[0mcupy_backends\u001b[0m\u001b[0;34m.\u001b[0m\u001b[0mcuda\u001b[0m\u001b[0;34m.\u001b[0m\u001b[0mlibs\u001b[0m\u001b[0;34m.\u001b[0m\u001b[0mcusparselt\u001b[0m \u001b[0;32mimport\u001b[0m \u001b[0mHandle\u001b[0m\u001b[0;34m,\u001b[0m \u001b[0mMatDescriptor\u001b[0m\u001b[0;34m,\u001b[0m \u001b[0mMatmulDescriptor\u001b[0m\u001b[0;34m,\u001b[0m \u001b[0mMatmulAlgSelection\u001b[0m\u001b[0;34m,\u001b[0m \u001b[0mMatmulPlan\u001b[0m  \u001b[0;31m# NOQA\u001b[0m\u001b[0;34m\u001b[0m\u001b[0;34m\u001b[0m\u001b[0m\n\u001b[1;32m     17\u001b[0m \u001b[0;32mfrom\u001b[0m \u001b[0mcupy_backends\u001b[0m\u001b[0;34m.\u001b[0m\u001b[0mcuda\u001b[0m\u001b[0;34m.\u001b[0m\u001b[0mlibs\u001b[0m \u001b[0;32mimport\u001b[0m \u001b[0mcusparselt\u001b[0m\u001b[0;34m,\u001b[0m \u001b[0mcusparse\u001b[0m\u001b[0;34m\u001b[0m\u001b[0;34m\u001b[0m\u001b[0m\n",
            "\u001b[0;31mNameError\u001b[0m: name 'cusparse' is not defined"
          ]
        }
      ]
    },
    {
      "cell_type": "code",
      "source": [
        "    # !python setup.py install # This doesn't work globally, just locally\n",
        "\n",
        "# Using -e has caveats: https://stackoverflow.com/a/20043907\n",
        "# !pip3 install ."
      ],
      "metadata": {
        "id": "cXhwtpo1W7-Z"
      },
      "execution_count": null,
      "outputs": []
    },
    {
      "cell_type": "markdown",
      "source": [
        "### Sample usage of our extension"
      ],
      "metadata": {
        "id": "wyGQyCVSY-3J"
      }
    },
    {
      "cell_type": "code",
      "source": [
        "import torch\n",
        "import os, sys\n",
        "sys.path.append(os.getcwd())\n",
        "import ops_cpp\n",
        "\n",
        "a = torch.rand([3,3]).cuda()\n",
        "b = a\n",
        "c = ops_cpp.add(a, b)\n",
        "print(c)"
      ],
      "metadata": {
        "colab": {
          "base_uri": "https://localhost:8080/"
        },
        "id": "Z0_qmycdK_Qu",
        "outputId": "b397fefa-917a-466a-85bd-ea434429195d"
      },
      "execution_count": null,
      "outputs": [
        {
          "output_type": "stream",
          "name": "stdout",
          "text": [
            "tensor([[0.6803, 1.8560, 1.7057],\n",
            "        [0.9444, 1.2852, 1.8762],\n",
            "        [0.1864, 0.8852, 0.7403]], device='cuda:0')\n"
          ]
        }
      ]
    },
    {
      "cell_type": "code",
      "source": [
        "!git diff"
      ],
      "metadata": {
        "id": "XsCp-_rgo9Ph",
        "outputId": "29a9ed67-cd60-4956-d35a-4905103e2cf7",
        "colab": {
          "base_uri": "https://localhost:8080/"
        }
      },
      "execution_count": null,
      "outputs": [
        {
          "output_type": "stream",
          "name": "stdout",
          "text": [
            "\u001b[1mdiff --git a/ops/ops_cuda_kernel.cu b/ops/ops_cuda_kernel.cu\u001b[m\n",
            "\u001b[1mindex 092ed31..2958650 100644\u001b[m\n",
            "\u001b[1m--- a/ops/ops_cuda_kernel.cu\u001b[m\n",
            "\u001b[1m+++ b/ops/ops_cuda_kernel.cu\u001b[m\n",
            "\u001b[36m@@ -4,10 +4,33 @@\u001b[m\n",
            " #include <cuda_runtime.h>\u001b[m\n",
            " \u001b[m\n",
            " \u001b[m\n",
            "\u001b[32m+\u001b[m\u001b[32mtemplate <typename scalar_t>\u001b[m\n",
            "\u001b[32m+\u001b[m\u001b[32m__global__ void cuda_add_kernel(\u001b[m\n",
            "\u001b[32m+\u001b[m\u001b[32m    scalar_t* __restrict__ a,\u001b[m\n",
            "\u001b[32m+\u001b[m\u001b[32m    scalar_t* __restrict__ b,\u001b[m\n",
            "\u001b[32m+\u001b[m\u001b[32m    scalar_t* __restrict__ c\u001b[m\n",
            "\u001b[32m+\u001b[m\u001b[32m    ) {\u001b[m\n",
            "\u001b[32m+\u001b[m\u001b[32m        c = a + b\u001b[m\n",
            "\u001b[32m+\u001b[m\u001b[32m      }\u001b[m\n",
            "\u001b[32m+\u001b[m\n",
            "\u001b[32m+\u001b[m\n",
            " torch::Tensor cuda_add(\u001b[m\n",
            " \t\ttorch::Tensor a,\u001b[m\n",
            " \t\ttorch::Tensor b)\u001b[m\n",
            " {\u001b[m\n",
            "\u001b[31m-\tauto c = torch::add(a, b);\u001b[m\n",
            "\u001b[31m-\treturn c;\u001b[m\n",
            "\u001b[32m+\u001b[m\n",
            "\u001b[32m+\u001b[m\u001b[32m  auto c = torch::zeros_like(a);\u001b[m\n",
            "\u001b[32m+\u001b[m\n",
            "\u001b[32m+\u001b[m\u001b[32m  AT_DISPATCH_FLOATING_TYPES(a.type(), \"cuda_add\", ([&] {\u001b[m\n",
            "\u001b[32m+\u001b[m\u001b[32m    cuda_add_kernel<scalar_t><<<1, 1>>>(\u001b[m\n",
            "\u001b[32m+\u001b[m\u001b[32m        a.data<scalar_t>(),\u001b[m\n",
            "\u001b[32m+\u001b[m\u001b[32m        b.data<scalar_t>(),\u001b[m\n",
            "\u001b[32m+\u001b[m\u001b[32m        c.data<scalar_t>(),\u001b[m\n",
            "\u001b[32m+\u001b[m\u001b[32m  })));\u001b[m\n",
            "\u001b[32m+\u001b[m\n",
            "\u001b[32m+\u001b[m\u001b[32m  return {c}\u001b[m\n",
            " }\u001b[m\n",
            "\u001b[41m+\u001b[m\n",
            "\u001b[41m+\u001b[m\n",
            "\u001b[41m+\u001b[m\n",
            "\u001b[41m+\u001b[m\n"
          ]
        }
      ]
    }
  ]
}