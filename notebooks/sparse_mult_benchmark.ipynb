{
  "nbformat": 4,
  "nbformat_minor": 0,
  "metadata": {
    "colab": {
      "provenance": [],
      "machine_shape": "hm"
    },
    "kernelspec": {
      "name": "python3",
      "display_name": "Python 3"
    },
    "language_info": {
      "name": "python"
    },
    "accelerator": "GPU",
    "gpuClass": "standard"
  },
  "cells": [
    {
      "cell_type": "code",
      "execution_count": 16,
      "metadata": {
        "colab": {
          "base_uri": "https://localhost:8080/"
        },
        "id": "whKKdxqETrvL",
        "outputId": "e03e0cab-8ed9-4af0-a1ae-78176e863264"
      },
      "outputs": [
        {
          "output_type": "stream",
          "name": "stdout",
          "text": [
            "8192 x 8192\n",
            "268435456\n",
            "cpu dense 1040.5998229980469\n",
            "gpu dense 100.80118560791016\n",
            "cpu sparse csr 3605.8313846588135\n",
            "gpu sparse csr 161.3987579345703\n"
          ]
        }
      ],
      "source": [
        "import torch \n",
        "import time\n",
        "from scipy.sparse import random\n",
        "import numpy as np\n",
        "\n",
        "def mv(matrix, vector):\n",
        "  t = time.time()\n",
        "\n",
        "  for _ in range(100):\n",
        "    ans = torch.mv(matrix, vector)\n",
        "\n",
        "  return time.time() - t\n",
        "\n",
        "def mv_gpu(matrix, vector):\n",
        "\n",
        "  torch.cuda.synchronize()\n",
        "\n",
        "  start = torch.cuda.Event(enable_timing=True)\n",
        "  end = torch.cuda.Event(enable_timing=True)\n",
        "\n",
        "  start.record()\n",
        "\n",
        "  for _ in range(100):\n",
        "    ans = torch.mv(matrix, vector)\n",
        "  end.record()\n",
        "\n",
        "  torch.cuda.synchronize()\n",
        "\n",
        "  return start.elapsed_time(end)\n",
        "\n",
        "M = 2 ** 13\n",
        "N = 2 ** 13\n",
        "\n",
        "print(f'{M} x {N}')\n",
        "print(M*N*4)\n",
        "\n",
        "matrix = torch.tensor(random(M, N, density=0.5).A).float()\n",
        "vector = torch.rand([N,])\n",
        "\n",
        "print('cpu dense', mv(matrix, vector) * 1000)\n",
        "print('gpu dense', mv_gpu(matrix.cuda(), vector.cuda()))\n",
        "\n",
        "matrix = matrix.to_sparse_csr()\n",
        "\n",
        "print('cpu sparse csr', mv(matrix, vector) * 1000)\n",
        "print('gpu sparse csr', mv_gpu(matrix.cuda(), vector.cuda()))"
      ]
    },
    {
      "cell_type": "code",
      "execution_count": 28,
      "metadata": {
        "colab": {
          "base_uri": "https://localhost:8080/"
        },
        "outputId": "178d113a-ac77-47bb-a064-55aad35d13e0",
        "id": "e7XB1lN0grSH"
      },
      "outputs": [
        {
          "output_type": "stream",
          "name": "stdout",
          "text": [
            "1024 x 1024\n",
            "4194304\n",
            "cpu dense 1422.1227169036865\n",
            "gpu dense 82.73241424560547\n",
            "cpu sparse csr 172.35565185546875\n",
            "gpu sparse csr 17.647008895874023\n"
          ]
        }
      ],
      "source": [
        "import torch \n",
        "import time\n",
        "from scipy.sparse import random\n",
        "import numpy as np\n",
        "\n",
        "def mv(A, B):\n",
        "  t = time.time()\n",
        "\n",
        "  for _ in range(100):\n",
        "    ans = torch.matmul(A, B)\n",
        "\n",
        "  return time.time() - t\n",
        "\n",
        "def mv_gpu(A, B):\n",
        "\n",
        "  torch.cuda.synchronize()\n",
        "\n",
        "  start = torch.cuda.Event(enable_timing=True)\n",
        "  end = torch.cuda.Event(enable_timing=True)\n",
        "\n",
        "  start.record()\n",
        "\n",
        "  for _ in range(100):\n",
        "    ans = torch.matmul(A, B)\n",
        "  end.record()\n",
        "\n",
        "  torch.cuda.synchronize()\n",
        "\n",
        "  return start.elapsed_time(end)\n",
        "\n",
        "M = 2 ** 10\n",
        "N = 2 ** 10\n",
        "\n",
        "print(f'{M} x {N}')\n",
        "print(M*N*4)\n",
        "\n",
        "matrix = torch.tensor(random(M, N, density=0.01).A).float()\n",
        "\n",
        "print('cpu dense', mv(matrix, matrix) * 1000)\n",
        "print('gpu dense', mv_gpu(matrix.cuda(), matrix.cuda()))\n",
        "\n",
        "matrix_sparse = matrix.to_sparse_csr()\n",
        "\n",
        "print('cpu sparse csr', mv(matrix_sparse, matrix) * 1000)\n",
        "print('gpu sparse csr', mv_gpu(matrix_sparse.cuda(), matrix.cuda()))"
      ]
    }
  ]
}